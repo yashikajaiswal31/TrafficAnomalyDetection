{
 "cells": [
  {
   "cell_type": "code",
   "execution_count": 56,
   "metadata": {},
   "outputs": [],
   "source": [
    "import os\n",
    "import numpy as np\n",
    "import tensorflow as tf\n",
    "from sklearn.ensemble import RandomForestClassifier\n",
    "from sklearn.metrics import accuracy_score\n",
    "from tensorflow.keras.layers import Dropout, Dense, Input, Concatenate\n",
    "from tensorflow.keras.models import Model\n",
    "from tensorflow.keras.optimizers import Adam\n",
    "from tensorflow.keras.preprocessing.image import ImageDataGenerator"
   ]
  },
  {
   "cell_type": "code",
   "execution_count": 57,
   "metadata": {},
   "outputs": [
    {
     "name": "stdout",
     "output_type": "stream",
     "text": [
      "Found 495 images belonging to 1 classes.\n"
     ]
    }
   ],
   "source": [
    "# Load and preprocess medical anomaly data\n",
    "medical_image_path = 'D:/PBL2_project/medical_dataset/'\n",
    "medical_datagen = ImageDataGenerator(rescale=1./255)\n",
    "medical_image_generator = medical_datagen.flow_from_directory(\n",
    "    medical_image_path,\n",
    "    target_size=(224, 224),\n",
    "    batch_size=5,  # Set batch size to 14\n",
    "    class_mode='binary'\n",
    ") "
   ]
  },
  {
   "cell_type": "code",
   "execution_count": 58,
   "metadata": {},
   "outputs": [
    {
     "name": "stdout",
     "output_type": "stream",
     "text": [
      "Found 985 images belonging to 2 classes.\n"
     ]
    }
   ],
   "source": [
    "# Load and preprocess traffic anomaly data\n",
    "traffic_image_path = 'D:/PBL2_project/Dataset/'\n",
    "traffic_datagen = ImageDataGenerator(rescale=1./255)\n",
    "traffic_image_generator = traffic_datagen.flow_from_directory(\n",
    "    traffic_image_path,\n",
    "    target_size=(224, 224),\n",
    "    batch_size=5,  # Set batch size to 14\n",
    "    class_mode='binary'\n",
    ")"
   ]
  },
  {
   "cell_type": "code",
   "execution_count": 59,
   "metadata": {},
   "outputs": [],
   "source": [
    "# Define the architecture for the medical anomaly detection model\n",
    "input_medical = Input(shape=(224, 224, 3))\n",
    "base_model_medical = tf.keras.applications.ResNet50(weights='imagenet', include_top=False, input_tensor=input_medical)\n",
    "x_medical = base_model_medical.output\n",
    "x_medical = tf.keras.layers.GlobalAveragePooling2D()(x_medical)\n",
    "output_medical = Dense(1, activation='sigmoid')(x_medical)\n",
    "model_medical = Model(inputs=input_medical, outputs=output_medical)"
   ]
  },
  {
   "cell_type": "code",
   "execution_count": 60,
   "metadata": {},
   "outputs": [
    {
     "name": "stdout",
     "output_type": "stream",
     "text": [
      "WARNING:tensorflow:`input_shape` is undefined or non-square, or `rows` is not in [96, 128, 160, 192, 224]. Weights for input shape (224, 224) will be loaded as the default.\n"
     ]
    }
   ],
   "source": [
    "# Define the architecture for the traffic anomaly detection model\n",
    "input_traffic = Input(shape=(224, 224, 3))\n",
    "base_model_traffic = tf.keras.applications.MobileNetV2(weights='imagenet', include_top=False, input_tensor=input_traffic)\n",
    "x_traffic = base_model_traffic.output\n",
    "x_traffic = tf.keras.layers.GlobalAveragePooling2D()(x_traffic)\n",
    "output_traffic = Dense(1, activation='sigmoid')(x_traffic)\n",
    "model_traffic = Model(inputs=input_traffic, outputs=output_traffic)\n"
   ]
  },
  {
   "cell_type": "code",
   "execution_count": 61,
   "metadata": {},
   "outputs": [],
   "source": [
    "# Concatenate the output features of both models\n",
    "concatenated = Concatenate()([model_medical.output, model_traffic.output])"
   ]
  },
  {
   "cell_type": "code",
   "execution_count": 62,
   "metadata": {},
   "outputs": [],
   "source": [
    "# Define a meta-classifier to make final predictions\n",
    "meta_classifier = Dense(1, activation='sigmoid')(concatenated)\n",
    "combined_model = Model(inputs=[input_medical, input_traffic], outputs=meta_classifier)\n"
   ]
  },
  {
   "cell_type": "code",
   "execution_count": 63,
   "metadata": {},
   "outputs": [],
   "source": [
    "# Compile the combined model\n",
    "combined_model.compile(optimizer=Adam(learning_rate=0.001),\n",
    "                       loss='binary_crossentropy',\n",
    "                       metrics=['accuracy'])\n"
   ]
  },
  {
   "cell_type": "code",
   "execution_count": 64,
   "metadata": {},
   "outputs": [
    {
     "name": "stdout",
     "output_type": "stream",
     "text": [
      "Epoch 1/20\n",
      "99/99 [==============================] - 155s 1s/step - loss: 0.2528 - accuracy: 0.9960\n",
      "Epoch 2/20\n",
      "99/99 [==============================] - 133s 1s/step - loss: 0.2090 - accuracy: 1.0000\n",
      "Epoch 3/20\n",
      "99/99 [==============================] - 131s 1s/step - loss: 0.1787 - accuracy: 1.0000\n",
      "Epoch 4/20\n",
      "99/99 [==============================] - 131s 1s/step - loss: 0.1540 - accuracy: 1.0000\n",
      "Epoch 5/20\n",
      "99/99 [==============================] - 5318s 54s/step - loss: 0.1339 - accuracy: 1.0000\n",
      "Epoch 6/20\n",
      "99/99 [==============================] - 132s 1s/step - loss: 0.1172 - accuracy: 1.0000\n",
      "Epoch 7/20\n",
      "99/99 [==============================] - 131s 1s/step - loss: 0.1033 - accuracy: 1.0000\n",
      "Epoch 8/20\n",
      "99/99 [==============================] - 131s 1s/step - loss: 0.0917 - accuracy: 1.0000\n",
      "Epoch 9/20\n",
      "99/99 [==============================] - 131s 1s/step - loss: 0.0817 - accuracy: 1.0000\n",
      "Epoch 10/20\n",
      "99/99 [==============================] - 278s 3s/step - loss: 0.0733 - accuracy: 1.0000\n",
      "Epoch 11/20\n",
      "99/99 [==============================] - 133s 1s/step - loss: 0.0660 - accuracy: 1.0000\n",
      "Epoch 12/20\n",
      "99/99 [==============================] - 133s 1s/step - loss: 0.0597 - accuracy: 1.0000\n",
      "Epoch 13/20\n",
      "99/99 [==============================] - 133s 1s/step - loss: 0.0542 - accuracy: 1.0000\n",
      "Epoch 14/20\n",
      "99/99 [==============================] - 133s 1s/step - loss: 0.0494 - accuracy: 1.0000\n",
      "Epoch 15/20\n",
      "99/99 [==============================] - 200s 2s/step - loss: 0.0451 - accuracy: 1.0000\n",
      "Epoch 16/20\n",
      "99/99 [==============================] - 129s 1s/step - loss: 0.0414 - accuracy: 1.0000\n",
      "Epoch 17/20\n",
      "99/99 [==============================] - 129s 1s/step - loss: 0.0380 - accuracy: 1.0000\n",
      "Epoch 18/20\n",
      "99/99 [==============================] - 129s 1s/step - loss: 0.0350 - accuracy: 1.0000\n",
      "Epoch 19/20\n",
      "99/99 [==============================] - 129s 1s/step - loss: 0.0324 - accuracy: 1.0000\n",
      "Epoch 20/20\n",
      "99/99 [==============================] - 129s 1s/step - loss: 0.0300 - accuracy: 1.0000\n"
     ]
    },
    {
     "data": {
      "text/plain": [
       "<keras.src.callbacks.History at 0x204673a7150>"
      ]
     },
     "execution_count": 64,
     "metadata": {},
     "output_type": "execute_result"
    }
   ],
   "source": [
    "# Train the combined model using the custom generator\n",
    "combined_model.fit(combined_generator(medical_image_generator, traffic_image_generator), steps_per_epoch=len(medical_image_generator), epochs=20)"
   ]
  },
  {
   "cell_type": "code",
   "execution_count": 65,
   "metadata": {},
   "outputs": [
    {
     "name": "stderr",
     "output_type": "stream",
     "text": [
      "c:\\Users\\Asus\\AppData\\Local\\Programs\\Python\\Python311\\Lib\\site-packages\\keras\\src\\engine\\training.py:3103: UserWarning: You are saving your model as an HDF5 file via `model.save()`. This file format is considered legacy. We recommend using instead the native Keras format, e.g. `model.save('my_model.keras')`.\n",
      "  saving_api.save_model(\n"
     ]
    }
   ],
   "source": [
    "# Save the combined model\n",
    "combined_model.save('combined_model.h5')\n"
   ]
  }
 ],
 "metadata": {
  "kernelspec": {
   "display_name": "Python 3",
   "language": "python",
   "name": "python3"
  },
  "language_info": {
   "codemirror_mode": {
    "name": "ipython",
    "version": 3
   },
   "file_extension": ".py",
   "mimetype": "text/x-python",
   "name": "python",
   "nbconvert_exporter": "python",
   "pygments_lexer": "ipython3",
   "version": "3.11.7"
  }
 },
 "nbformat": 4,
 "nbformat_minor": 2
}
